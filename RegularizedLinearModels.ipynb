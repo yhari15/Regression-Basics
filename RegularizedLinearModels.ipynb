{
 "cells": [
  {
   "cell_type": "code",
   "execution_count": 1,
   "metadata": {
    "tags": []
   },
   "outputs": [
    {
     "name": "stdout",
     "output_type": "stream",
     "text": [
      "Defaulting to user installation because normal site-packages is not writeable\n",
      "Requirement already satisfied: mglearn in ./.local/lib/python3.7/site-packages (0.1.9)\n",
      "Requirement already satisfied: imageio in /usr/local/lib/python3.7/site-packages (from mglearn) (2.8.0)\n",
      "Requirement already satisfied: scikit-learn in /usr/local/lib/python3.7/site-packages (from mglearn) (0.24.2)\n",
      "Requirement already satisfied: cycler in /usr/local/lib/python3.7/site-packages (from mglearn) (0.10.0)\n",
      "Requirement already satisfied: joblib in /usr/local/lib/python3.7/site-packages (from mglearn) (0.14.1)\n",
      "Requirement already satisfied: numpy in /usr/local/lib/python3.7/site-packages (from mglearn) (1.21.5)\n",
      "Requirement already satisfied: matplotlib in /usr/local/lib/python3.7/site-packages (from mglearn) (3.5.1)\n",
      "Requirement already satisfied: pillow in /usr/local/lib/python3.7/site-packages (from mglearn) (7.1.1)\n",
      "Requirement already satisfied: pandas in /usr/local/lib/python3.7/site-packages (from mglearn) (1.1.5)\n",
      "Requirement already satisfied: six in /usr/local/lib/python3.7/site-packages (from cycler->mglearn) (1.14.0)\n",
      "Requirement already satisfied: kiwisolver>=1.0.1 in /usr/local/lib/python3.7/site-packages (from matplotlib->mglearn) (1.2.0)\n",
      "Requirement already satisfied: python-dateutil>=2.7 in /usr/local/lib/python3.7/site-packages (from matplotlib->mglearn) (2.8.1)\n",
      "Requirement already satisfied: fonttools>=4.22.0 in /usr/local/lib/python3.7/site-packages (from matplotlib->mglearn) (4.28.5)\n",
      "Requirement already satisfied: packaging>=20.0 in /usr/local/lib/python3.7/site-packages (from matplotlib->mglearn) (21.0)\n",
      "Requirement already satisfied: pyparsing>=2.2.1 in /usr/local/lib/python3.7/site-packages (from matplotlib->mglearn) (2.4.6)\n",
      "Requirement already satisfied: pytz>=2017.2 in /usr/local/lib/python3.7/site-packages (from pandas->mglearn) (2019.3)\n",
      "Requirement already satisfied: threadpoolctl>=2.0.0 in /usr/local/lib/python3.7/site-packages (from scikit-learn->mglearn) (2.2.0)\n",
      "Requirement already satisfied: scipy>=0.19.1 in /usr/local/lib/python3.7/site-packages (from scikit-learn->mglearn) (1.4.1)\n",
      "\u001b[33mWARNING: You are using pip version 22.0.3; however, version 22.0.4 is available.\n",
      "You should consider upgrading via the '/usr/local/bin/python3 -m pip install --upgrade pip' command.\u001b[0m\u001b[33m\n",
      "\u001b[0m"
     ]
    }
   ],
   "source": [
    "!pip install mglearn"
   ]
  },
  {
   "cell_type": "code",
   "execution_count": 2,
   "metadata": {},
   "outputs": [],
   "source": [
    "import mglearn\n",
    "import numpy as np\n",
    "import matplotlib.pyplot as plt\n",
    "import pandas as pd"
   ]
  },
  {
   "cell_type": "code",
   "execution_count": 3,
   "metadata": {},
   "outputs": [],
   "source": [
    "from sklearn.metrics import mean_absolute_error, mean_squared_error"
   ]
  },
  {
   "cell_type": "code",
   "execution_count": 4,
   "metadata": {},
   "outputs": [],
   "source": [
    "from sklearn.model_selection import train_test_split\n",
    "from sklearn.linear_model import LinearRegression"
   ]
  },
  {
   "cell_type": "code",
   "execution_count": 5,
   "metadata": {},
   "outputs": [
    {
     "data": {
      "text/html": [
       "<div>\n",
       "<style scoped>\n",
       "    .dataframe tbody tr th:only-of-type {\n",
       "        vertical-align: middle;\n",
       "    }\n",
       "\n",
       "    .dataframe tbody tr th {\n",
       "        vertical-align: top;\n",
       "    }\n",
       "\n",
       "    .dataframe thead th {\n",
       "        text-align: right;\n",
       "    }\n",
       "</style>\n",
       "<table border=\"1\" class=\"dataframe\">\n",
       "  <thead>\n",
       "    <tr style=\"text-align: right;\">\n",
       "      <th></th>\n",
       "      <th>Unnamed: 0</th>\n",
       "      <th>TV</th>\n",
       "      <th>radio</th>\n",
       "      <th>newspaper</th>\n",
       "      <th>sales</th>\n",
       "    </tr>\n",
       "  </thead>\n",
       "  <tbody>\n",
       "    <tr>\n",
       "      <th>0</th>\n",
       "      <td>1</td>\n",
       "      <td>230.1</td>\n",
       "      <td>37.8</td>\n",
       "      <td>69.2</td>\n",
       "      <td>22.1</td>\n",
       "    </tr>\n",
       "    <tr>\n",
       "      <th>1</th>\n",
       "      <td>2</td>\n",
       "      <td>44.5</td>\n",
       "      <td>39.3</td>\n",
       "      <td>45.1</td>\n",
       "      <td>10.4</td>\n",
       "    </tr>\n",
       "    <tr>\n",
       "      <th>2</th>\n",
       "      <td>3</td>\n",
       "      <td>17.2</td>\n",
       "      <td>45.9</td>\n",
       "      <td>69.3</td>\n",
       "      <td>9.3</td>\n",
       "    </tr>\n",
       "    <tr>\n",
       "      <th>3</th>\n",
       "      <td>4</td>\n",
       "      <td>151.5</td>\n",
       "      <td>41.3</td>\n",
       "      <td>58.5</td>\n",
       "      <td>18.5</td>\n",
       "    </tr>\n",
       "    <tr>\n",
       "      <th>4</th>\n",
       "      <td>5</td>\n",
       "      <td>180.8</td>\n",
       "      <td>10.8</td>\n",
       "      <td>58.4</td>\n",
       "      <td>12.9</td>\n",
       "    </tr>\n",
       "    <tr>\n",
       "      <th>...</th>\n",
       "      <td>...</td>\n",
       "      <td>...</td>\n",
       "      <td>...</td>\n",
       "      <td>...</td>\n",
       "      <td>...</td>\n",
       "    </tr>\n",
       "    <tr>\n",
       "      <th>195</th>\n",
       "      <td>196</td>\n",
       "      <td>38.2</td>\n",
       "      <td>3.7</td>\n",
       "      <td>13.8</td>\n",
       "      <td>7.6</td>\n",
       "    </tr>\n",
       "    <tr>\n",
       "      <th>196</th>\n",
       "      <td>197</td>\n",
       "      <td>94.2</td>\n",
       "      <td>4.9</td>\n",
       "      <td>8.1</td>\n",
       "      <td>9.7</td>\n",
       "    </tr>\n",
       "    <tr>\n",
       "      <th>197</th>\n",
       "      <td>198</td>\n",
       "      <td>177.0</td>\n",
       "      <td>9.3</td>\n",
       "      <td>6.4</td>\n",
       "      <td>12.8</td>\n",
       "    </tr>\n",
       "    <tr>\n",
       "      <th>198</th>\n",
       "      <td>199</td>\n",
       "      <td>283.6</td>\n",
       "      <td>42.0</td>\n",
       "      <td>66.2</td>\n",
       "      <td>25.5</td>\n",
       "    </tr>\n",
       "    <tr>\n",
       "      <th>199</th>\n",
       "      <td>200</td>\n",
       "      <td>232.1</td>\n",
       "      <td>8.6</td>\n",
       "      <td>8.7</td>\n",
       "      <td>13.4</td>\n",
       "    </tr>\n",
       "  </tbody>\n",
       "</table>\n",
       "<p>200 rows × 5 columns</p>\n",
       "</div>"
      ],
      "text/plain": [
       "     Unnamed: 0     TV  radio  newspaper  sales\n",
       "0             1  230.1   37.8       69.2   22.1\n",
       "1             2   44.5   39.3       45.1   10.4\n",
       "2             3   17.2   45.9       69.3    9.3\n",
       "3             4  151.5   41.3       58.5   18.5\n",
       "4             5  180.8   10.8       58.4   12.9\n",
       "..          ...    ...    ...        ...    ...\n",
       "195         196   38.2    3.7       13.8    7.6\n",
       "196         197   94.2    4.9        8.1    9.7\n",
       "197         198  177.0    9.3        6.4   12.8\n",
       "198         199  283.6   42.0       66.2   25.5\n",
       "199         200  232.1    8.6        8.7   13.4\n",
       "\n",
       "[200 rows x 5 columns]"
      ]
     },
     "execution_count": 5,
     "metadata": {},
     "output_type": "execute_result"
    }
   ],
   "source": [
    "Add_df=pd.read_csv('Advertising.csv')\n",
    "Add_df"
   ]
  },
  {
   "cell_type": "code",
   "execution_count": 6,
   "metadata": {},
   "outputs": [],
   "source": [
    "#X,y = mglearn.datasets.load_extended_boston()\n",
    "X=Add_df[['TV','radio','newspaper']]\n",
    "y=Add_df[['sales']]\n",
    "X_train, X_test, y_train, y_test = train_test_split(X,y,random_state=0)\n"
   ]
  },
  {
   "cell_type": "markdown",
   "metadata": {},
   "source": [
    "#### Linear Regression"
   ]
  },
  {
   "cell_type": "code",
   "execution_count": 7,
   "metadata": {},
   "outputs": [],
   "source": [
    "my_linear_reg = LinearRegression().fit(X_train, y_train)"
   ]
  },
  {
   "cell_type": "code",
   "execution_count": 8,
   "metadata": {},
   "outputs": [
    {
     "name": "stdout",
     "output_type": "stream",
     "text": [
      "TRAIN DATA RESULTS\n",
      "Mean Absolute Error on Train data :  1.2248611099616429\n",
      "Mean Squared Error on Train data :  2.438917493390848\n",
      "Training Set R squared score :  0.9072183330817297\n",
      "\n",
      "TEST DATA RESULTS\n",
      "Mean Absolute Error on Test data :  1.3000320919235455\n",
      "Mean Squared Error on Test data :  4.012497522917099\n",
      "Test Set R squared score :  0.8576396745320893\n"
     ]
    }
   ],
   "source": [
    "my_preds_train = my_linear_reg.predict(X_train)\n",
    "my_preds_test = my_linear_reg.predict(X_test)\n",
    "\n",
    "print('TRAIN DATA RESULTS')\n",
    "print(\"Mean Absolute Error on Train data : \", mean_absolute_error(y_train, my_preds_train))\n",
    "print(\"Mean Squared Error on Train data : \", mean_squared_error(y_train, my_preds_train))\n",
    "print('Training Set R squared score : ', my_linear_reg.score(X_train, y_train))\n",
    "\n",
    "print('\\nTEST DATA RESULTS')\n",
    "print(\"Mean Absolute Error on Test data : \", mean_absolute_error(y_test, my_preds_test))\n",
    "print(\"Mean Squared Error on Test data : \", mean_squared_error(y_test, my_preds_test))\n",
    "print('Test Set R squared score : ', my_linear_reg.score(X_test, y_test))"
   ]
  },
  {
   "cell_type": "code",
   "execution_count": 9,
   "metadata": {},
   "outputs": [
    {
     "data": {
      "text/plain": [
       "<matplotlib.legend.Legend at 0x7f53e21d15d0>"
      ]
     },
     "execution_count": 9,
     "metadata": {},
     "output_type": "execute_result"
    },
    {
     "data": {
      "image/png": "[encoded data removed]",
      "text/plain": [
       "<Figure size 432x288 with 1 Axes>"
      ]
     },
     "metadata": {
      "needs_background": "light"
     },
     "output_type": "display_data"
    }
   ],
   "source": [
    "plt.plot(my_linear_reg.coef_,'x', label = 'LinearRegression')\n",
    "plt.xlabel('Coefficient index')\n",
    "plt.ylabel('Coefficient Magnitude')\n",
    "plt.legend()"
   ]
  },
  {
   "cell_type": "markdown",
   "metadata": {},
   "source": [
    "#### Ridge Regression"
   ]
  },
  {
   "cell_type": "code",
   "execution_count": 10,
   "metadata": {},
   "outputs": [
    {
     "name": "stdout",
     "output_type": "stream",
     "text": [
      "TRAIN DATA RESULTS\n",
      "Mean Absolute Error on Train data :  1.2248673911523371\n",
      "Mean Squared Error on Train data :  2.4389175021913676\n",
      "Training Set R squared score :  0.9072183327469391\n",
      "\n",
      "TEST DATA RESULTS\n",
      "Mean Absolute Error on Test data :  1.3000186595256988\n",
      "Mean Squared Error on Test data :  4.012394239227089\n",
      "Test Set R squared score :  0.8576433389579591\n"
     ]
    }
   ],
   "source": [
    "from sklearn.linear_model import Ridge\n",
    "\n",
    "my_ridge_model = Ridge().fit(X_train, y_train)\n",
    "\n",
    "my_preds_train = my_ridge_model.predict(X_train)\n",
    "my_preds_test = my_ridge_model.predict(X_test)\n",
    "\n",
    "print('TRAIN DATA RESULTS')\n",
    "print(\"Mean Absolute Error on Train data : \", mean_absolute_error(y_train, my_preds_train))\n",
    "print(\"Mean Squared Error on Train data : \", mean_squared_error(y_train, my_preds_train))\n",
    "print('Training Set R squared score : ', my_ridge_model.score(X_train, y_train))\n",
    "\n",
    "print('\\nTEST DATA RESULTS')\n",
    "print(\"Mean Absolute Error on Test data : \", mean_absolute_error(y_test, my_preds_test))\n",
    "print(\"Mean Squared Error on Test data : \", mean_squared_error(y_test, my_preds_test))\n",
    "print('Test Set R squared score : ', my_ridge_model.score(X_test, y_test))"
   ]
  },
  {
   "cell_type": "code",
   "execution_count": 11,
   "metadata": {},
   "outputs": [
    {
     "data": {
      "text/plain": [
       "<matplotlib.legend.Legend at 0x7f53e21abbd0>"
      ]
     },
     "execution_count": 11,
     "metadata": {},
     "output_type": "execute_result"
    },
    {
     "data": {
      "image/png": "[encoded data removed]",
      "text/plain": [
       "<Figure size 432x288 with 1 Axes>"
      ]
     },
     "metadata": {
      "needs_background": "light"
     },
     "output_type": "display_data"
    }
   ],
   "source": [
    "plt.plot(my_ridge_model.coef_, '.', label ='RidgeRegression')\n",
    "plt.plot(my_linear_reg.coef_,'x', label ='LinearRegression')\n",
    "plt.xlabel('Coefficient index')\n",
    "plt.ylabel('Coefficient Magnitude')\n",
    "plt.ylim(-50,50)\n",
    "plt.legend()"
   ]
  },
  {
   "cell_type": "code",
   "execution_count": 12,
   "metadata": {},
   "outputs": [
    {
     "name": "stdout",
     "output_type": "stream",
     "text": [
      "TRAIN DATA RESULTS\n",
      "Mean Absolute Error on Train data :  1.2249239026391954\n",
      "Mean Squared Error on Train data :  2.4389183728899853\n",
      "Training Set R squared score :  0.907218299623691\n",
      "\n",
      "TEST DATA RESULTS\n",
      "Mean Absolute Error on Test data :  1.2998977975461328\n",
      "Mean Squared Error on Test data :  4.011465658712957\n",
      "Test Set R squared score :  0.8576762842802826\n"
     ]
    }
   ],
   "source": [
    "my_ridge_model = Ridge(alpha=10).fit(X_train, y_train)\n",
    "\n",
    "my_preds_train = my_ridge_model.predict(X_train)\n",
    "my_preds_test = my_ridge_model.predict(X_test)\n",
    "\n",
    "print('TRAIN DATA RESULTS')\n",
    "print(\"Mean Absolute Error on Train data : \", mean_absolute_error(y_train, my_preds_train))\n",
    "print(\"Mean Squared Error on Train data : \", mean_squared_error(y_train, my_preds_train))\n",
    "print('Training Set R squared score : ', my_ridge_model.score(X_train, y_train))\n",
    "\n",
    "print('\\nTEST DATA RESULTS')\n",
    "print(\"Mean Absolute Error on Test data : \", mean_absolute_error(y_test, my_preds_test))\n",
    "print(\"Mean Squared Error on Test data : \", mean_squared_error(y_test, my_preds_test))\n",
    "print('Test Set R squared score : ', my_ridge_model.score(X_test, y_test))"
   ]
  },
  {
   "cell_type": "code",
   "execution_count": 13,
   "metadata": {},
   "outputs": [
    {
     "data": {
      "text/plain": [
       "<matplotlib.legend.Legend at 0x7f53ddf79e50>"
      ]
     },
     "execution_count": 13,
     "metadata": {},
     "output_type": "execute_result"
    },
    {
     "data": {
      "image/png": "[encoded data removed]",
      "text/plain": [
       "<Figure size 432x288 with 1 Axes>"
      ]
     },
     "metadata": {
      "needs_background": "light"
     },
     "output_type": "display_data"
    }
   ],
   "source": [
    "plt.plot(my_ridge_model.coef_, '.', label ='RidgeRegression')\n",
    "plt.plot(my_linear_reg.coef_,'x', label ='LinearRegression')\n",
    "plt.xlabel('Coefficient index')\n",
    "plt.ylabel('Coefficient Magnitude')\n",
    "plt.ylim(-50,50)\n",
    "plt.legend()"
   ]
  },
  {
   "cell_type": "code",
   "execution_count": 14,
   "metadata": {},
   "outputs": [
    {
     "name": "stdout",
     "output_type": "stream",
     "text": [
      "TRAIN DATA RESULTS\n",
      "Mean Absolute Error on Train data :  1.224862994363735\n",
      "Mean Squared Error on Train data :  2.438917494182934\n",
      "Training Set R squared score :  0.907218333051597\n",
      "\n",
      "TEST DATA RESULTS\n",
      "Mean Absolute Error on Test data :  1.3000280621351021\n",
      "Mean Squared Error on Test data :  4.012466535539211\n",
      "Test Set R squared score :  0.8576407739404195\n"
     ]
    }
   ],
   "source": [
    "from sklearn.linear_model import Ridge\n",
    "\n",
    "my_ridge_model = Ridge(alpha=0.3).fit(X_train, y_train)\n",
    "\n",
    "my_preds_train = my_ridge_model.predict(X_train)\n",
    "my_preds_test = my_ridge_model.predict(X_test)\n",
    "\n",
    "print('TRAIN DATA RESULTS')\n",
    "print(\"Mean Absolute Error on Train data : \", mean_absolute_error(y_train, my_preds_train))\n",
    "print(\"Mean Squared Error on Train data : \", mean_squared_error(y_train, my_preds_train))\n",
    "print('Training Set R squared score : ', my_ridge_model.score(X_train, y_train))\n",
    "\n",
    "print('\\nTEST DATA RESULTS')\n",
    "print(\"Mean Absolute Error on Test data : \", mean_absolute_error(y_test, my_preds_test))\n",
    "print(\"Mean Squared Error on Test data : \", mean_squared_error(y_test, my_preds_test))\n",
    "print('Test Set R squared score : ', my_ridge_model.score(X_test, y_test))"
   ]
  },
  {
   "cell_type": "code",
   "execution_count": 15,
   "metadata": {},
   "outputs": [
    {
     "data": {
      "text/plain": [
       "<matplotlib.legend.Legend at 0x7f53dde69910>"
      ]
     },
     "execution_count": 15,
     "metadata": {},
     "output_type": "execute_result"
    },
    {
     "data": {
      "image/png": "[encoded data removed]",
      "text/plain": [
       "<Figure size 432x288 with 1 Axes>"
      ]
     },
     "metadata": {
      "needs_background": "light"
     },
     "output_type": "display_data"
    }
   ],
   "source": [
    "plt.plot(my_ridge_model.coef_, '.', label ='RidgeRegression')\n",
    "plt.plot(my_linear_reg.coef_,'x', label ='LinearRegression')\n",
    "plt.xlabel('Coefficient index')\n",
    "plt.ylabel('Coefficient Magnitude')\n",
    "plt.ylim(-50,50)\n",
    "plt.legend()"
   ]
  },
  {
   "cell_type": "markdown",
   "metadata": {},
   "source": [
    "#### Lasso Regression"
   ]
  },
  {
   "cell_type": "code",
   "execution_count": 16,
   "metadata": {},
   "outputs": [],
   "source": [
    "from sklearn.linear_model import Lasso"
   ]
  },
  {
   "cell_type": "code",
   "execution_count": 17,
   "metadata": {},
   "outputs": [
    {
     "name": "stdout",
     "output_type": "stream",
     "text": [
      "TRAIN DATA RESULTS\n",
      "Mean Absolute Error on Train data :  1.2311116369303716\n",
      "Mean Squared Error on Train data :  2.444052917547911\n",
      "Training Set R squared score :  0.9070229705018492\n",
      "\n",
      "TEST DATA RESULTS\n",
      "Mean Absolute Error on Test data :  1.2794792729550337\n",
      "Mean Squared Error on Test data :  3.9254309985586335\n",
      "Test Set R squared score :  0.860728727839721\n"
     ]
    }
   ],
   "source": [
    "my_lasso = Lasso().fit(X_train, y_train)\n",
    "\n",
    "my_preds_train = my_lasso.predict(X_train)\n",
    "my_preds_test = my_lasso.predict(X_test)\n",
    "\n",
    "print('TRAIN DATA RESULTS')\n",
    "print(\"Mean Absolute Error on Train data : \", mean_absolute_error(y_train, my_preds_train))\n",
    "print(\"Mean Squared Error on Train data : \", mean_squared_error(y_train, my_preds_train))\n",
    "print('Training Set R squared score : ', my_lasso.score(X_train, y_train))\n",
    "\n",
    "print('\\nTEST DATA RESULTS')\n",
    "print(\"Mean Absolute Error on Test data : \", mean_absolute_error(y_test, my_preds_test))\n",
    "print(\"Mean Squared Error on Test data : \", mean_squared_error(y_test, my_preds_test))\n",
    "print('Test Set R squared score : ', my_lasso.score(X_test, y_test))"
   ]
  },
  {
   "cell_type": "code",
   "execution_count": 18,
   "metadata": {},
   "outputs": [
    {
     "data": {
      "text/plain": [
       "0.019230769230769232"
      ]
     },
     "execution_count": 18,
     "metadata": {},
     "output_type": "execute_result"
    }
   ],
   "source": [
    "np.sum(my_lasso.coef_!=0)/104"
   ]
  },
  {
   "cell_type": "code",
   "execution_count": 19,
   "metadata": {},
   "outputs": [
    {
     "name": "stdout",
     "output_type": "stream",
     "text": [
      "TRAIN DATA RESULTS\n",
      "Mean Absolute Error on Train data :  1.224907791561\n",
      "Mean Squared Error on Train data :  2.4389180381307614\n",
      "Training Set R squared score :  0.9072183123586519\n",
      "\n",
      "TEST DATA RESULTS\n",
      "Mean Absolute Error on Test data :  1.2998106396429687\n",
      "Mean Squared Error on Test data :  4.0115293632680356\n",
      "Test Set R squared score :  0.8576740240916737\n"
     ]
    }
   ],
   "source": [
    "my_lasso = Lasso(alpha=.01).fit(X_train, y_train)\n",
    "\n",
    "my_preds_train = my_lasso.predict(X_train)\n",
    "my_preds_test = my_lasso.predict(X_test)\n",
    "\n",
    "print('TRAIN DATA RESULTS')\n",
    "print(\"Mean Absolute Error on Train data : \", mean_absolute_error(y_train, my_preds_train))\n",
    "print(\"Mean Squared Error on Train data : \", mean_squared_error(y_train, my_preds_train))\n",
    "print('Training Set R squared score : ', my_lasso.score(X_train, y_train))\n",
    "\n",
    "print('\\nTEST DATA RESULTS')\n",
    "print(\"Mean Absolute Error on Test data : \", mean_absolute_error(y_test, my_preds_test))\n",
    "print(\"Mean Squared Error on Test data : \", mean_squared_error(y_test, my_preds_test))\n",
    "print('Test Set R squared score : ', my_lasso.score(X_test, y_test))"
   ]
  },
  {
   "cell_type": "code",
   "execution_count": 20,
   "metadata": {},
   "outputs": [
    {
     "name": "stdout",
     "output_type": "stream",
     "text": [
      "TRAIN DATA RESULTS\n",
      "Mean Absolute Error on Train data :  1.224907791561\n",
      "Mean Squared Error on Train data :  2.4389180381307614\n",
      "Training Set R squared score :  0.9072183123586519\n",
      "\n",
      "TEST DATA RESULTS\n",
      "Mean Absolute Error on Test data :  1.2998106396429687\n",
      "Mean Squared Error on Test data :  4.0115293632680356\n",
      "Test Set R squared score :  0.8576740240916737\n"
     ]
    }
   ],
   "source": [
    "my_lasso = Lasso(alpha=.01, max_iter=100000).fit(X_train, y_train)\n",
    "\n",
    "my_preds_train = my_lasso.predict(X_train)\n",
    "my_preds_test = my_lasso.predict(X_test)\n",
    "\n",
    "print('TRAIN DATA RESULTS')\n",
    "print(\"Mean Absolute Error on Train data : \", mean_absolute_error(y_train, my_preds_train))\n",
    "print(\"Mean Squared Error on Train data : \", mean_squared_error(y_train, my_preds_train))\n",
    "print('Training Set R squared score : ', my_lasso.score(X_train, y_train))\n",
    "\n",
    "print('\\nTEST DATA RESULTS')\n",
    "print(\"Mean Absolute Error on Test data : \", mean_absolute_error(y_test, my_preds_test))\n",
    "print(\"Mean Squared Error on Test data : \", mean_squared_error(y_test, my_preds_test))\n",
    "print('Test Set R squared score : ', my_lasso.score(X_test, y_test))"
   ]
  },
  {
   "cell_type": "code",
   "execution_count": 21,
   "metadata": {},
   "outputs": [
    {
     "data": {
      "text/plain": [
       "3"
      ]
     },
     "execution_count": 21,
     "metadata": {},
     "output_type": "execute_result"
    }
   ],
   "source": [
    "np.sum(my_lasso.coef_!=0)"
   ]
  },
  {
   "cell_type": "code",
   "execution_count": 22,
   "metadata": {},
   "outputs": [
    {
     "name": "stdout",
     "output_type": "stream",
     "text": [
      "TRAIN DATA RESULTS\n",
      "Mean Absolute Error on Train data :  1.2248615353698362\n",
      "Mean Squared Error on Train data :  2.4389174934455125\n",
      "Training Set R squared score :  0.9072183330796502\n",
      "\n",
      "TEST DATA RESULTS\n",
      "Mean Absolute Error on Test data :  1.3000298748964576\n",
      "Mean Squared Error on Test data :  4.0124878110135\n",
      "Test Set R squared score :  0.8576400191029581\n"
     ]
    }
   ],
   "source": [
    "my_lasso = Lasso(alpha=.0001, max_iter=100000).fit(X_train, y_train)\n",
    "\n",
    "my_preds_train = my_lasso.predict(X_train)\n",
    "my_preds_test = my_lasso.predict(X_test)\n",
    "\n",
    "print('TRAIN DATA RESULTS')\n",
    "print(\"Mean Absolute Error on Train data : \", mean_absolute_error(y_train, my_preds_train))\n",
    "print(\"Mean Squared Error on Train data : \", mean_squared_error(y_train, my_preds_train))\n",
    "print('Training Set R squared score : ', my_lasso.score(X_train, y_train))\n",
    "\n",
    "print('\\nTEST DATA RESULTS')\n",
    "print(\"Mean Absolute Error on Test data : \", mean_absolute_error(y_test, my_preds_test))\n",
    "print(\"Mean Squared Error on Test data : \", mean_squared_error(y_test, my_preds_test))\n",
    "print('Test Set R squared score : ', my_lasso.score(X_test, y_test))"
   ]
  },
  {
   "cell_type": "code",
   "execution_count": 23,
   "metadata": {},
   "outputs": [],
   "source": [
    "from sklearn.linear_model import ElasticNet"
   ]
  },
  {
   "cell_type": "code",
   "execution_count": 24,
   "metadata": {},
   "outputs": [
    {
     "name": "stdout",
     "output_type": "stream",
     "text": [
      "TRAIN DATA RESULTS\n",
      "Mean Absolute Error on Train data :  1.2284859098975165\n",
      "Mean Squared Error on Train data :  2.4407282660433864\n",
      "Training Set R squared score :  0.9071494473955317\n",
      "\n",
      "TEST DATA RESULTS\n",
      "Mean Absolute Error on Test data :  1.2879326693152395\n",
      "Mean Squared Error on Test data :  3.9582815093844466\n",
      "Test Set R squared score :  0.8595632169861342\n"
     ]
    }
   ],
   "source": [
    "my_ElasticNet = ElasticNet().fit(X_train, y_train)\n",
    "\n",
    "my_preds_train = my_ElasticNet.predict(X_train)\n",
    "my_preds_test = my_ElasticNet.predict(X_test)\n",
    "\n",
    "print('TRAIN DATA RESULTS')\n",
    "print(\"Mean Absolute Error on Train data : \", mean_absolute_error(y_train, my_preds_train))\n",
    "print(\"Mean Squared Error on Train data : \", mean_squared_error(y_train, my_preds_train))\n",
    "print('Training Set R squared score : ', my_ElasticNet.score(X_train, y_train))\n",
    "\n",
    "print('\\nTEST DATA RESULTS')\n",
    "print(\"Mean Absolute Error on Test data : \", mean_absolute_error(y_test, my_preds_test))\n",
    "print(\"Mean Squared Error on Test data : \", mean_squared_error(y_test, my_preds_test))\n",
    "print('Test Set R squared score : ', my_ElasticNet.score(X_test, y_test))"
   ]
  },
  {
   "cell_type": "code",
   "execution_count": 25,
   "metadata": {},
   "outputs": [],
   "source": [
    "from sklearn.model_selection import GridSearchCV"
   ]
  },
  {
   "cell_type": "code",
   "execution_count": 26,
   "metadata": {},
   "outputs": [
    {
     "data": {
      "text/plain": [
       "GridSearchCV(cv=3, estimator=ElasticNet(),\n",
       "             param_grid={'alpha': [0.001, 0.01, 0.1, 0.2, 0.5, 0.8, 1],\n",
       "                         'max_iter': [1500, 10000, 100000]})"
      ]
     },
     "execution_count": 26,
     "metadata": {},
     "output_type": "execute_result"
    }
   ],
   "source": [
    "params = {'alpha':[0.001, 0.01, 0.1, 0.2, 0.5, 0.8, 1], 'max_iter':[1500, 10000, 100000]}\n",
    "grid_search = GridSearchCV(my_ElasticNet, params, cv = 3)\n",
    "grid_search.fit(X_train, y_train)"
   ]
  },
  {
   "cell_type": "code",
   "execution_count": 27,
   "metadata": {},
   "outputs": [
    {
     "data": {
      "text/plain": [
       "{'alpha': 1, 'max_iter': 1500}"
      ]
     },
     "execution_count": 27,
     "metadata": {},
     "output_type": "execute_result"
    }
   ],
   "source": [
    "grid_search.best_params_"
   ]
  },
  {
   "cell_type": "code",
   "execution_count": 28,
   "metadata": {},
   "outputs": [
    {
     "name": "stdout",
     "output_type": "stream",
     "text": [
      "TRAIN DATA RESULTS\n",
      "Mean Absolute Error on Train data :  1.2284859098975165\n",
      "Mean Squared Error on Train data :  2.4407282660433864\n",
      "Training Set R squared score :  0.9071494473955317\n",
      "\n",
      "TEST DATA RESULTS\n",
      "Mean Absolute Error on Test data :  1.2879326693152395\n",
      "Mean Squared Error on Test data :  3.9582815093844466\n",
      "Test Set R squared score :  0.8595632169861342\n"
     ]
    }
   ],
   "source": [
    "my_preds_train = grid_search.predict(X_train)\n",
    "my_preds_test = grid_search.predict(X_test)\n",
    "\n",
    "print('TRAIN DATA RESULTS')\n",
    "print(\"Mean Absolute Error on Train data : \", mean_absolute_error(y_train, my_preds_train))\n",
    "print(\"Mean Squared Error on Train data : \", mean_squared_error(y_train, my_preds_train))\n",
    "print('Training Set R squared score : ', grid_search.score(X_train, y_train))\n",
    "\n",
    "print('\\nTEST DATA RESULTS')\n",
    "print(\"Mean Absolute Error on Test data : \", mean_absolute_error(y_test, my_preds_test))\n",
    "print(\"Mean Squared Error on Test data : \", mean_squared_error(y_test, my_preds_test))\n",
    "print('Test Set R squared score : ', grid_search.score(X_test, y_test))"
   ]
  },
  {
   "cell_type": "code",
   "execution_count": null,
   "metadata": {},
   "outputs": [],
   "source": []
  }
 ],
 "metadata": {
  "kernelspec": {
   "display_name": "Python 3",
   "language": "python",
   "name": "python3"
  },
  "language_info": {
   "codemirror_mode": {
    "name": "ipython",
    "version": 3
   },
   "file_extension": ".py",
   "mimetype": "text/x-python",
   "name": "python",
   "nbconvert_exporter": "python",
   "pygments_lexer": "ipython3",
   "version": "3.7.6"
  }
 },
 "nbformat": 4,
 "nbformat_minor": 4
}
